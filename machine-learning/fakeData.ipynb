{
 "cells": [
  {
   "cell_type": "code",
   "execution_count": 410,
   "metadata": {},
   "outputs": [
    {
     "data": {
      "text/plain": [
       "array([48.44738032, 43.34391088, 42.45998947, 48.41995674, 60.69196497,\n",
       "       48.91989742, 60.83448199, 47.72049071, 53.78056072, 47.1236765 ,\n",
       "       49.24845549, 54.37003146, 56.5295972 , 53.38454382, 61.68347751,\n",
       "       56.13870865, 62.64845573, 57.32332707, 61.13220865, 66.831087  ,\n",
       "       50.17947447, 52.13441518, 56.22175518, 56.53067427, 58.57074457,\n",
       "       50.72780682, 56.16015965, 52.89138875, 60.15211316, 65.31065707,\n",
       "       48.15243396, 69.35801063, 58.10416113, 48.00615976, 57.73732488,\n",
       "       61.74943145, 49.80364737, 57.18624967, 64.77601524, 55.10486048,\n",
       "       65.54121168, 57.31220835, 50.99237287, 59.42926848, 49.42553052,\n",
       "       57.0810324 , 59.48419872, 50.31229088, 62.67993495, 65.2366362 ])"
      ]
     },
     "execution_count": 410,
     "metadata": {},
     "output_type": "execute_result"
    }
   ],
   "source": [
    "import numpy as np\n",
    "import pandas as pd\n",
    "import matplotlib.pyplot as plt\n",
    "import seaborn as sns\n",
    "\n",
    "\n",
    "\n",
    "def createLiePulse():\n",
    "    blank=np.linspace(55,50,50)\n",
    "    pulse=70+15*np.sin(blank+np.random.normal(0,1,50))\n",
    "    pulse+=np.random.normal(-5,5,50)\n",
    "    # plt.plot(np.linspace(0,50),pulse)\n",
    "    # print(np.std(pulse), np.var(pulse))\n",
    "    return pulse\n",
    "\n",
    "\n",
    "def createTruthPulse():\n",
    "    blank=np.linspace(55,50,50)\n",
    "    pulse=60+5*np.sin(blank+np.random.normal(0,1,50))\n",
    "    pulse+=np.random.normal(-5,5,50)\n",
    "    #print(pulse)\n",
    "    #plt.plot(np.linspace(0,50),pulse)\n",
    "    return pulse\n",
    "\n",
    "createLiePulse()\n",
    "createTruthPulse()"
   ]
  },
  {
   "cell_type": "code",
   "execution_count": null,
   "metadata": {},
   "outputs": [],
   "source": [
    "def createGSRLie():\n",
    "    blank=np.ones(50)\n",
    "    blank[0]=450+np.random.uniform(-15,15)\n",
    "    for i in range(1,35):\n",
    "        inc=np.random.uniform(0,1)\n",
    "        if inc>0.6:\n",
    "            blank[i]=blank[i-1]-np.random.uniform(0,5)\n",
    "        elif inc<0.6 and inc>0.1:\n",
    "            blank[i]=blank[i-1]\n",
    "        else:\n",
    "            blank[i]=blank[i-1]+np.random.uniform(0,3)\n",
    "\n",
    "    for i in range(35,50):\n",
    "        inc=np.random.uniform(0,1)\n",
    "        if inc>0.5:\n",
    "            blank[i]=blank[i-1]+np.random.uniform(0,5)\n",
    "        elif inc<0.5 and inc>0.1:\n",
    "            blank[i]=blank[i-1]\n",
    "        else:\n",
    "            blank[i]=blank[i-1]-np.random.uniform(0,3)\n",
    "    #plt.plot(np.linspace(0,len(blank),len(blank)),blank)\n",
    "    #plt.step(np.linspace(0,len(blank),len(blank)),blank)\n",
    "    return blank\n",
    "    \n",
    "def createGSRTruth():\n",
    "    blank=np.ones(50)\n",
    "    blank[0]=450+np.random.uniform(-15,15)\n",
    "    for i in range(1,50):\n",
    "        inc=np.random.uniform(0,1)\n",
    "        if inc>0.9:\n",
    "            blank[i]=blank[i-1]+np.random.uniform(0,5)\n",
    "        elif inc<0.9 and inc>0.1:\n",
    "            blank[i]=blank[i-1]\n",
    "        else:\n",
    "            blank[i]=blank[i-1]-np.random.uniform(0,3)\n",
    "\n",
    "    \n",
    "    #plt.plot(np.linspace(0,len(blank),len(blank)),blank)\n",
    "    #plt.step(np.linspace(0,len(blank),len(blank)),blank)\n",
    "    return blank\n",
    "    \n",
    "createGSRLie()\n",
    "createGSRTruth()"
   ]
  },
  {
   "cell_type": "code",
   "execution_count": null,
   "metadata": {},
   "outputs": [],
   "source": [
    "def createFullDataSet():\n",
    "    df = pd.DataFrame()\n",
    "    GSR=[createGSRLie()]\n",
    "    Pulse=[createLiePulse()]\n",
    "    Condition=[\"lie\"]\n",
    "    for i in range(1,9):\n",
    "        GSR.append(createGSRTruth())\n",
    "        Pulse.append(createTruthPulse())\n",
    "        Condition.append(\"truth\")\n",
    "    GSR.append(createGSRLie())\n",
    "    Pulse.append(createLiePulse())\n",
    "    Condition.append(\"lie\")\n",
    "\n",
    "    df[\"GSR\"]=GSR\n",
    "    df[\"Pulse\"]=Pulse\n",
    "    df[\"Condition\"]=Condition\n",
    "    df[\"ID\"]=np.linspace(0,9,10)\n",
    "    return df\n",
    "    \n",
    "\n",
    "createFullDataSet()\n",
    "    "
   ]
  },
  {
   "cell_type": "code",
   "execution_count": null,
   "metadata": {},
   "outputs": [],
   "source": [
    "import pandas as pd\n",
    "import numpy as np\n",
    "from sklearn.decomposition import PCA\n",
    "from sklearn.preprocessing import StandardScaler\n",
    "\n",
    "\n",
    "from  itertools import chain\n",
    "df=createFullDataSet()\n",
    "vals = df.GSR.str.len()\n",
    "df1 = pd.DataFrame({\n",
    "        \"ID\": np.repeat(df.ID.values,vals),\n",
    "        \"GSR\": list(chain.from_iterable(df.GSR)),\n",
    "        \"Pulse\": list(chain.from_iterable(df.Pulse)),\n",
    "        \"Condition\": np.repeat(df.Condition.values,vals)})\n",
    "df1 = df1.reindex(df.columns, axis=1)\n",
    "df1\n",
    "# print (df1)\n",
    "\n",
    "df1.groupby(\"ID\")\n",
    "df1\n",
    "X=df1[[\"GSR\",\"Pulse\"]].values\n",
    "Y=df1[[\"Condition\",\"ID\"]].values\n",
    "X_std = StandardScaler().fit_transform(X)\n",
    "\n",
    "print('Covariance matrix \\n') \n",
    "cov_mat= np.cov(X_std, rowvar=False) \n",
    "cov_mat\n",
    "eig_vals, eig_vecs = np.linalg.eig(cov_mat) \n",
    "print('Eigenvectors \\n%s' %eig_vecs) \n",
    "print('\\nEigenvalues \\n%s' %eig_vals)\n",
    "\n"
   ]
  },
  {
   "cell_type": "code",
   "execution_count": null,
   "metadata": {},
   "outputs": [],
   "source": [
    "\n"
   ]
  },
  {
   "cell_type": "code",
   "execution_count": null,
   "metadata": {},
   "outputs": [],
   "source": [
    "df=createFullDataSet()\n",
    "npdf=df.drop([\"Condition\",\"ID\"],axis=1).to_numpy()\n",
    "data_2d = np.array([features_2d.flatten() for features_2d in data])\n",
    "data_2d\n",
    "pca = PCA(n_components=2)\n",
    "pca.fit(data_2d)\n",
    "data_pca = pca.transform(data_2d)\n",
    "print(\"original shape:   \", data_2d.shape) ##(69,2640*7680)\n",
    "print(\"transformed shape:\", data_pca.shape)\n",
    "np.array([[[23,2],[2,3],[2,3]],[[2,3],[2,3],[2,3]]]).shape\n",
    "\n",
    "npdf.shape\n",
    "npdf"
   ]
  },
  {
   "cell_type": "code",
   "execution_count": 431,
   "metadata": {},
   "outputs": [
    {
     "data": {
      "text/plain": [
       "<Axes: >"
      ]
     },
     "execution_count": 431,
     "metadata": {},
     "output_type": "execute_result"
    },
    {
     "data": {
      "image/png": "[encoded data removed]",
      "text/plain": [
       "<Figure size 640x480 with 1 Axes>"
      ]
     },
     "metadata": {},
     "output_type": "display_data"
    }
   ],
   "source": [
    "df=createFullDataSet()\n",
    "GSRVar=[]\n",
    "PulseVar=[]\n",
    "for i in df[\"GSR\"]:\n",
    "    GSRVar.append(np.var(i))\n",
    "for i in df[\"Pulse\"]:\n",
    "    PulseVar.append(np.var(i))\n",
    "\n",
    "GSRVar\n",
    "PulseVar\n",
    "df[\"GSRVar\"]=GSRVar\n",
    "df[\"PulseVar\"]=PulseVar\n",
    "\n",
    "df2=df.drop([\"GSR\",\"Pulse\"],axis=1)\n",
    "df2\n",
    "\n",
    "X=df2[[\"GSRVar\",\"PulseVar\"]].values\n",
    "Y=df2[[\"Condition\",\"ID\"]].values\n",
    "X_std = StandardScaler().fit_transform(X)\n",
    "pca = PCA(n_components=2)\n",
    "pca.fit(X_std)\n",
    "X_pca = pca.transform(X_std)\n",
    "sns.scatterplot(x=X_pca[:,0],y=X_pca[:,1], hue=Y[:,0])\n"
   ]
  },
  {
   "cell_type": "code",
   "execution_count": null,
   "metadata": {},
   "outputs": [],
   "source": []
  }
 ],
 "metadata": {
  "kernelspec": {
   "display_name": "Python 3",
   "language": "python",
   "name": "python3"
  },
  "language_info": {
   "codemirror_mode": {
    "name": "ipython",
    "version": 3
   },
   "file_extension": ".py",
   "mimetype": "text/x-python",
   "name": "python",
   "nbconvert_exporter": "python",
   "pygments_lexer": "ipython3",
   "version": "3.10.11"
  },
  "orig_nbformat": 4
 },
 "nbformat": 4,
 "nbformat_minor": 2
}
